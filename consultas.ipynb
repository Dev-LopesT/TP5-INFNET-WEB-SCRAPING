{
 "cells": [
  {
   "cell_type": "markdown",
   "id": "1596c4ca",
   "metadata": {},
   "source": [
    "# Consultas \n",
    "\n"
   ]
  },
  {
   "cell_type": "markdown",
   "id": "9246176a",
   "metadata": {},
   "source": [
    "### Consulta 1 - Mostrar todos os eventos com suas datas, localização, e tipo de evento."
   ]
  },
  {
   "cell_type": "code",
   "execution_count": null,
   "id": "0d3b34f0",
   "metadata": {},
   "outputs": [],
   "source": [
    "import sqlite3\n",
    "\n",
    "\n",
    "conn = sqlite3.connect('banco_de_dados_sympla.db')\n",
    "cursor = conn.cursor()\n",
    "\n",
    "\n",
    "cursor.execute('''\n",
    "SELECT e.nome, de.data, de.localizacao, e.tipo\n",
    "FROM eventos e\n",
    "JOIN dados_eventos de ON e.id = de.id_evento;\n",
    "''')\n",
    "resultados = cursor.fetchall()\n",
    "\n",
    "for resultado in resultados:\n",
    "    print(f'Título: {resultado[0]}')\n",
    "    print(f'Data: {resultado[1]}')\n",
    "    print(f'Localização: {resultado[2]}')\n",
    "    print(f'Tipo de Evento: {resultado[3]}')\n",
    "    print('-' * 50)\n",
    "\n"
   ]
  },
  {
   "cell_type": "markdown",
   "id": "599dc7a0",
   "metadata": {},
   "source": [
    "### Consulta 2 - Mostrar os dados dos 2 eventos mais próximos de iniciar"
   ]
  },
  {
   "cell_type": "code",
   "execution_count": null,
   "id": "c40dbddf",
   "metadata": {},
   "outputs": [],
   "source": [
    "\n",
    "cursor.execute('''\n",
    "SELECT e.nome, de.data, de.localizacao, e.tipo\n",
    "FROM eventos e\n",
    "JOIN dados_eventos de ON e.id = de.id_evento\n",
    "ORDER BY \n",
    "    CASE \n",
    "        WHEN de.data LIKE '%/%' THEN \n",
    "            STRFTIME('%d/%m', de.data) \n",
    "        ELSE \n",
    "            '01/01' \n",
    "    END ASC\n",
    "LIMIT 2;\n",
    "''')\n",
    "\n",
    "resultados = cursor.fetchall()\n",
    "\n",
    "# Exibir os resultados\n",
    "for resultado in resultados:\n",
    "    print(f'Título: {resultado[0]}')\n",
    "    print(f'Data: {resultado[1]}')\n",
    "    print(f'Localização: {resultado[2]}')\n",
    "    print(f'Tipo de Evento: {resultado[3]}')\n",
    "    print('-' * 50)\n"
   ]
  },
  {
   "cell_type": "markdown",
   "id": "9b76624c",
   "metadata": {},
   "source": [
    "### Consulta 3. Mostrar os eventos que acontecem no Rio de Janeiro.'"
   ]
  },
  {
   "cell_type": "code",
   "execution_count": null,
   "id": "e84f48c5",
   "metadata": {},
   "outputs": [],
   "source": [
    "\n",
    "cursor.execute('''\n",
    "SELECT e.nome, de.data, de.localizacao, e.tipo\n",
    "FROM eventos e\n",
    "JOIN dados_eventos de ON e.id = de.id_evento\n",
    "WHERE de.localizacao LIKE '%Rio de Janeiro%'\n",
    "''')\n",
    "\n",
    "resultados = cursor.fetchall()\n",
    "\n",
    "# Exibir os resultados\n",
    "if resultados:\n",
    "    for resultado in resultados:\n",
    "        print(f'Título: {resultado[0]}')\n",
    "        print(f'Data: {resultado[1]}')\n",
    "        print(f'Localização: {resultado[2]}')\n",
    "        print(f'Tipo de Evento: {resultado[3]}')\n",
    "        print('-' * 50)\n",
    "else:\n",
    "    print(\"Nenhum evento encontrado no Rio de Janeiro.\")\n"
   ]
  },
  {
   "cell_type": "markdown",
   "id": "114e1ed9",
   "metadata": {},
   "source": [
    "### Consulta 4 - Mostrar todos os eventos que são ao ar livre.\n"
   ]
  },
  {
   "cell_type": "code",
   "execution_count": null,
   "id": "344771c9",
   "metadata": {},
   "outputs": [],
   "source": [
    "\n",
    "cursor.execute('''\n",
    "SELECT e.nome, de.data, de.localizacao, e.tipo\n",
    "FROM eventos e\n",
    "JOIN dados_eventos de ON e.id = de.id_evento\n",
    "WHERE de.localizacao LIKE '%ao ar livre%' OR de.localizacao LIKE '%externo%' OR de.localizacao LIKE '%praça%'\n",
    "''')\n",
    "\n",
    "resultados = cursor.fetchall()\n",
    "\n",
    "if resultados:\n",
    "    for resultado in resultados:\n",
    "        print(f'Título: {resultado[0]}')\n",
    "        print(f'Data: {resultado[1]}')\n",
    "        print(f'Localização: {resultado[2]}')\n",
    "        print(f'Tipo de Evento: {resultado[3]}')\n",
    "        print('-' * 50)\n",
    "else:\n",
    "    print(\"Nenhum evento encontrado ao ar livre.\")\n"
   ]
  },
  {
   "cell_type": "markdown",
   "id": "25e7ff0f",
   "metadata": {},
   "source": [
    "### Consulta 5 - Mostrar todos os Metadados por evento"
   ]
  },
  {
   "cell_type": "code",
   "execution_count": null,
   "id": "ae1f0b97",
   "metadata": {},
   "outputs": [],
   "source": [
    "\n",
    "cursor.execute('''\n",
    "SELECT e.nome, m.metadado\n",
    "FROM eventos e\n",
    "JOIN metadados m ON e.id = m.id_evento\n",
    "''')\n",
    "\n",
    "resultados = cursor.fetchall()\n",
    "\n",
    "\n",
    "if resultados:\n",
    "    for resultado in resultados:\n",
    "        print(f'Título: {resultado[0]}')\n",
    "        print(f'Metadado: {resultado[1]}')\n",
    "        print('-' * 50)\n",
    "else:\n",
    "    print(\"Nenhum metadado encontrado para os eventos.\")\n",
    "\n",
    "cursor.close()\n"
   ]
  }
 ],
 "metadata": {
  "kernelspec": {
   "display_name": "Python 3",
   "language": "python",
   "name": "python3"
  },
  "language_info": {
   "codemirror_mode": {
    "name": "ipython",
    "version": 3
   },
   "file_extension": ".py",
   "mimetype": "text/x-python",
   "name": "python",
   "nbconvert_exporter": "python",
   "version": "3.8.8"
  }
 },
 "nbformat": 4,
 "nbformat_minor": 5
}
